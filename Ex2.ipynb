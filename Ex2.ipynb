{
 "cells": [
  {
   "cell_type": "code",
   "execution_count": 236,
   "metadata": {},
   "outputs": [],
   "source": [
    "# Bài toán dự đoán tuổi của bào ngư (Cột Rings nằm ở cuối cùng là cột tuổi của bào ngư)"
   ]
  },
  {
   "cell_type": "code",
   "execution_count": 237,
   "metadata": {},
   "outputs": [],
   "source": [
    "import pandas as pd\n",
    "import matplotlib.pyplot as plt\n",
    "import numpy as np\n",
    "import math"
   ]
  },
  {
   "cell_type": "code",
   "execution_count": 238,
   "metadata": {},
   "outputs": [
    {
     "name": "stdout",
     "output_type": "stream",
     "text": [
      "     Sex  Length  Diameter  Height  Whole weight  Shucked weight  \\\n",
      "0      M   0.455     0.365   0.095        0.5140          0.2245   \n",
      "1      M   0.350     0.265   0.090        0.2255          0.0995   \n",
      "2      F   0.530     0.420   0.135        0.6770          0.2565   \n",
      "3      M   0.440     0.365   0.125        0.5160          0.2155   \n",
      "4      I   0.330     0.255   0.080        0.2050          0.0895   \n",
      "...   ..     ...       ...     ...           ...             ...   \n",
      "4172   F   0.565     0.450   0.165        0.8870          0.3700   \n",
      "4173   M   0.590     0.440   0.135        0.9660          0.4390   \n",
      "4174   M   0.600     0.475   0.205        1.1760          0.5255   \n",
      "4175   F   0.625     0.485   0.150        1.0945          0.5310   \n",
      "4176   M   0.710     0.555   0.195        1.9485          0.9455   \n",
      "\n",
      "      Viscera weight  Shell weight  Rings  \n",
      "0             0.1010        0.1500     15  \n",
      "1             0.0485        0.0700      7  \n",
      "2             0.1415        0.2100      9  \n",
      "3             0.1140        0.1550     10  \n",
      "4             0.0395        0.0550      7  \n",
      "...              ...           ...    ...  \n",
      "4172          0.2390        0.2490     11  \n",
      "4173          0.2145        0.2605     10  \n",
      "4174          0.2875        0.3080      9  \n",
      "4175          0.2610        0.2960     10  \n",
      "4176          0.3765        0.4950     12  \n",
      "\n",
      "[4177 rows x 9 columns]\n"
     ]
    }
   ],
   "source": [
    "# read file\n",
    "df = pd.read_csv(r'C:\\Users\\QUANG\\OneDrive\\Máy tính\\abalone.data.txt')\n",
    "print(df)"
   ]
  },
  {
   "cell_type": "code",
   "execution_count": 239,
   "metadata": {},
   "outputs": [
    {
     "name": "stdout",
     "output_type": "stream",
     "text": [
      "\n",
      "df:\n",
      "      Sex  Length  Diameter  Height  Whole weight  Shucked weight  \\\n",
      "0      M   0.455     0.365   0.095        0.5140          0.2245   \n",
      "1      M   0.350     0.265   0.090        0.2255          0.0995   \n",
      "2      F   0.530     0.420   0.135        0.6770          0.2565   \n",
      "3      M   0.440     0.365   0.125        0.5160          0.2155   \n",
      "4      I   0.330     0.255   0.080        0.2050          0.0895   \n",
      "...   ..     ...       ...     ...           ...             ...   \n",
      "4172   F   0.565     0.450   0.165        0.8870          0.3700   \n",
      "4173   M   0.590     0.440   0.135        0.9660          0.4390   \n",
      "4174   M   0.600     0.475   0.205        1.1760          0.5255   \n",
      "4175   F   0.625     0.485   0.150        1.0945          0.5310   \n",
      "4176   M   0.710     0.555   0.195        1.9485          0.9455   \n",
      "\n",
      "      Viscera weight  Shell weight  Rings  \n",
      "0             0.1010        0.1500     15  \n",
      "1             0.0485        0.0700      7  \n",
      "2             0.1415        0.2100      9  \n",
      "3             0.1140        0.1550     10  \n",
      "4             0.0395        0.0550      7  \n",
      "...              ...           ...    ...  \n",
      "4172          0.2390        0.2490     11  \n",
      "4173          0.2145        0.2605     10  \n",
      "4174          0.2875        0.3080      9  \n",
      "4175          0.2610        0.2960     10  \n",
      "4176          0.3765        0.4950     12  \n",
      "\n",
      "[4177 rows x 9 columns]\n",
      "\n",
      "df_le:\n",
      "       Sex  Length  Diameter  Height  Whole weight  Shucked weight  \\\n",
      "0       2   0.455     0.365   0.095        0.5140          0.2245   \n",
      "1       2   0.350     0.265   0.090        0.2255          0.0995   \n",
      "2       0   0.530     0.420   0.135        0.6770          0.2565   \n",
      "3       2   0.440     0.365   0.125        0.5160          0.2155   \n",
      "4       1   0.330     0.255   0.080        0.2050          0.0895   \n",
      "...   ...     ...       ...     ...           ...             ...   \n",
      "4172    0   0.565     0.450   0.165        0.8870          0.3700   \n",
      "4173    2   0.590     0.440   0.135        0.9660          0.4390   \n",
      "4174    2   0.600     0.475   0.205        1.1760          0.5255   \n",
      "4175    0   0.625     0.485   0.150        1.0945          0.5310   \n",
      "4176    2   0.710     0.555   0.195        1.9485          0.9455   \n",
      "\n",
      "      Viscera weight  Shell weight  Rings  \n",
      "0             0.1010        0.1500     15  \n",
      "1             0.0485        0.0700      7  \n",
      "2             0.1415        0.2100      9  \n",
      "3             0.1140        0.1550     10  \n",
      "4             0.0395        0.0550      7  \n",
      "...              ...           ...    ...  \n",
      "4172          0.2390        0.2490     11  \n",
      "4173          0.2145        0.2605     10  \n",
      "4174          0.2875        0.3080      9  \n",
      "4175          0.2610        0.2960     10  \n",
      "4176          0.3765        0.4950     12  \n",
      "\n",
      "[4177 rows x 9 columns]\n"
     ]
    }
   ],
   "source": [
    "# Tạo bản sau của dữ liệu df ban đầu để khi df này chuyển thành nhãn thì df kia không bị chuyển thành nhãn (vẫn dữ nguyên dữ liệu ban đầu)\n",
    "from sklearn.preprocessing import LabelEncoder\n",
    "le = LabelEncoder()\n",
    "df_le = df.copy()\n",
    "for i in range(len(df.dtypes)):\n",
    "    if df.dtypes[i] == 'object':\n",
    "        le.fit(df_le[df.columns[i]])\n",
    "        df_le[df.columns[i]] = le.transform(df_le[df.columns[i]])\n",
    "        \n",
    "print('\\ndf:\\n',df)\n",
    "print('\\ndf_le:\\n',df_le)"
   ]
  },
  {
   "cell_type": "code",
   "execution_count": 240,
   "metadata": {},
   "outputs": [
    {
     "name": "stdout",
     "output_type": "stream",
     "text": [
      "X:\n",
      "[[2.     0.455  0.365  ... 0.2245 0.101  0.15  ]\n",
      " [2.     0.35   0.265  ... 0.0995 0.0485 0.07  ]\n",
      " [0.     0.53   0.42   ... 0.2565 0.1415 0.21  ]\n",
      " ...\n",
      " [2.     0.6    0.475  ... 0.5255 0.2875 0.308 ]\n",
      " [0.     0.625  0.485  ... 0.531  0.261  0.296 ]\n",
      " [2.     0.71   0.555  ... 0.9455 0.3765 0.495 ]]\n",
      "\n",
      "y:\n",
      "[15.  7.  9. ...  9. 10. 12.]\n",
      "\n",
      "X.shape = (4177, 8)\n",
      "\n",
      "y.shape = (4177,)\n"
     ]
    }
   ],
   "source": [
    "data = df_le.values\n",
    "X = data[:,:-1]\n",
    "y = data[:,-1]\n",
    "print('X:')\n",
    "print(X)\n",
    "print('\\ny:')\n",
    "print(y)\n",
    "print('\\nX.shape =',X.shape)\n",
    "print('\\ny.shape =',y.shape)"
   ]
  },
  {
   "cell_type": "code",
   "execution_count": 241,
   "metadata": {},
   "outputs": [
    {
     "name": "stdout",
     "output_type": "stream",
     "text": [
      "X_train:\n",
      "[[0.     0.615  0.455  ... 0.4735 0.263  0.274 ]\n",
      " [0.     0.515  0.395  ... 0.281  0.1255 0.22  ]\n",
      " [2.     0.66   0.53   ... 0.7395 0.3505 0.405 ]\n",
      " ...\n",
      " [2.     0.51   0.395  ... 0.244  0.1335 0.188 ]\n",
      " [2.     0.575  0.465  ... 0.516  0.2185 0.235 ]\n",
      " [0.     0.595  0.475  ... 0.547  0.231  0.271 ]]\n",
      "\n",
      "X_train.shape = (3132, 8)\n",
      "\n",
      "X_test:\n",
      "[[2.     0.605  0.455  ... 0.421  0.3015 0.325 ]\n",
      " [2.     0.59   0.44   ... 0.387  0.215  0.245 ]\n",
      " [0.     0.56   0.445  ... 0.305  0.2245 0.335 ]\n",
      " ...\n",
      " [2.     0.635  0.51   ... 0.544  0.318  0.377 ]\n",
      " [2.     0.46   0.375  ... 0.192  0.1045 0.205 ]\n",
      " [0.     0.53   0.385  ... 0.289  0.151  0.18  ]]\n",
      "\n",
      "X_test.shape = (1045, 8)\n",
      "\n",
      "y_train:\n",
      "[ 9. 12. 10. ... 11.  9.  6.]\n",
      "\n",
      "y_train.shape = (3132,)\n",
      "\n",
      "y_test\n",
      "[ 9.  8. 16. ...  8.  9. 10.]\n",
      "\n",
      "y_test.shape = (1045,)\n"
     ]
    }
   ],
   "source": [
    "from sklearn.model_selection import train_test_split\n",
    "X_train,X_test,y_train,y_test = train_test_split(X,y,random_state=42,test_size=0.25)\n",
    "print('X_train:')\n",
    "print(X_train)\n",
    "print('\\nX_train.shape =',X_train.shape)\n",
    "print('\\nX_test:')\n",
    "print(X_test)\n",
    "print('\\nX_test.shape =',X_test.shape)\n",
    "print('\\ny_train:')\n",
    "print(y_train)\n",
    "print('\\ny_train.shape =',y_train.shape)\n",
    "print('\\ny_test')\n",
    "print(y_test)\n",
    "print('\\ny_test.shape =',y_test.shape)"
   ]
  },
  {
   "cell_type": "code",
   "execution_count": 242,
   "metadata": {},
   "outputs": [
    {
     "name": "stdout",
     "output_type": "stream",
     "text": [
      "KNeighborsClassifier(n_neighbors=55)\n",
      "error = 762/1045  (72.92) %\n"
     ]
    }
   ],
   "source": [
    "# KNN\n",
    "from sklearn.neighbors import KNeighborsClassifier\n",
    "K = int (math.sqrt(X_train.shape[0]))\n",
    "if K % 2 == 0:\n",
    "    K+=1\n",
    "KNN = KNeighborsClassifier(n_neighbors=K)\n",
    "print(KNN)\n",
    "KNN.fit(X_train,y_train)\n",
    "y_predict_KNN = KNN.predict(X_test)\n",
    "count_error_KNN = 0\n",
    "for i in range(len(y_predict_KNN)):\n",
    "    if y_predict_KNN[i] != y_test[i]:\n",
    "        count_error_KNN+=1\n",
    "print('error = %d/%d  (%.2f) ' %(count_error_KNN,len(y_predict_KNN),(count_error_KNN*100/len(y_predict_KNN))) + '%')"
   ]
  },
  {
   "cell_type": "code",
   "execution_count": 243,
   "metadata": {},
   "outputs": [
    {
     "name": "stdout",
     "output_type": "stream",
     "text": [
      "GaussianNB()\n",
      "error = 800/1045  (76.56) %\n"
     ]
    }
   ],
   "source": [
    "# GaussianNB\n",
    "from sklearn.naive_bayes import GaussianNB\n",
    "gnb = GaussianNB()\n",
    "print(gnb)\n",
    "gnb.fit(X_train,y_train)\n",
    "y_predict_GNB = gnb.predict(X_test)\n",
    "count_error_GNB = 0\n",
    "for i in range(len(y_predict_GNB)):\n",
    "    if y_predict_GNB[i] != y_test[i]:\n",
    "        count_error_GNB+=1\n",
    "print('error = %d/%d  (%.2f) ' %(count_error_GNB,len(y_predict_GNB),(count_error_GNB*100/len(y_predict_GNB))) + '%')"
   ]
  },
  {
   "cell_type": "code",
   "execution_count": 244,
   "metadata": {},
   "outputs": [
    {
     "name": "stdout",
     "output_type": "stream",
     "text": [
      "MultinomialNB()\n",
      "error = 870/1045  (83.25) %\n"
     ]
    }
   ],
   "source": [
    "# MultinomialNB\n",
    "from sklearn.naive_bayes import MultinomialNB\n",
    "mnb = MultinomialNB()\n",
    "print(mnb)\n",
    "mnb.fit(X_train,y_train)\n",
    "y_predict_MNB = mnb.predict(X_test)\n",
    "count_error_MNB = 0\n",
    "for i in range(len(y_predict_MNB)):\n",
    "    if y_predict_MNB[i] != y_test[i]:\n",
    "        count_error_MNB+=1\n",
    "print('error = %d/%d  (%.2f) ' %(count_error_MNB,len(y_predict_MNB),(count_error_MNB*100/len(y_predict_MNB))) + '%')"
   ]
  },
  {
   "cell_type": "code",
   "execution_count": 245,
   "metadata": {},
   "outputs": [
    {
     "name": "stdout",
     "output_type": "stream",
     "text": [
      "ComplementNB()\n",
      "error = 882/1045  (84.40) %\n"
     ]
    }
   ],
   "source": [
    "# ComplementNB\n",
    "from sklearn.naive_bayes import ComplementNB\n",
    "cnb = ComplementNB()\n",
    "print(cnb)\n",
    "cnb.fit(X_train,y_train)\n",
    "y_predict_CNB = cnb.predict(X_test)\n",
    "count_error_CNB = 0\n",
    "for i in range(len(y_predict_CNB)):\n",
    "    if y_predict_CNB[i] != y_test[i]:\n",
    "        count_error_CNB+=1\n",
    "print('error = %d/%d  (%.2f) ' %(count_error_CNB,len(y_predict_CNB),(count_error_CNB*100/len(y_predict_CNB))) + '%')"
   ]
  },
  {
   "cell_type": "code",
   "execution_count": 246,
   "metadata": {},
   "outputs": [
    {
     "name": "stdout",
     "output_type": "stream",
     "text": [
      "BernoulliNB()\n",
      "error = 882/1045  (84.40) %\n"
     ]
    }
   ],
   "source": [
    "# BernoulliNB\n",
    "from sklearn.naive_bayes import BernoulliNB\n",
    "bnb = BernoulliNB()\n",
    "print(bnb)\n",
    "bnb.fit(X_train,y_train)\n",
    "y_predict_BNB = bnb.predict(X_test)\n",
    "count_error_BNB = 0\n",
    "for i in range(len(y_predict_BNB)):\n",
    "    if y_predict_BNB[i] != y_test[i]:\n",
    "        count_error_BNB+=1\n",
    "print('error = %d/%d  (%.2f) ' %(count_error_BNB,len(y_predict_BNB),(count_error_BNB*100/len(y_predict_BNB))) + '%')"
   ]
  },
  {
   "cell_type": "code",
   "execution_count": 247,
   "metadata": {},
   "outputs": [
    {
     "name": "stdout",
     "output_type": "stream",
     "text": [
      "CategoricalNB()\n",
      "error = 824/1045  (78.85) %\n"
     ]
    }
   ],
   "source": [
    "# CategoricalNB\n",
    "from sklearn.naive_bayes import CategoricalNB\n",
    "catnb = CategoricalNB()\n",
    "print(catnb)\n",
    "catnb.fit(X_train,y_train)\n",
    "y_predict_CATNB = catnb.predict(X_test)\n",
    "count_error_CATNB = 0\n",
    "for i in range(len(y_predict_CATNB)):\n",
    "    if y_predict_CATNB[i] != y_test[i]:\n",
    "        count_error_CATNB+=1\n",
    "print('error = %d/%d  (%.2f) ' %(count_error_CATNB,len(y_predict_CATNB),(count_error_CATNB*100/len(y_predict_CATNB))) + '%')"
   ]
  },
  {
   "cell_type": "code",
   "execution_count": 248,
   "metadata": {},
   "outputs": [
    {
     "name": "stdout",
     "output_type": "stream",
     "text": [
      "LinearRegression()\n",
      "error = 784/1045  (75.02) %\n"
     ]
    }
   ],
   "source": [
    "# LinearRegression\n",
    "from sklearn.linear_model import LinearRegression\n",
    "lrs = LinearRegression()\n",
    "print(lrs)\n",
    "lrs.fit(X_train,y_train)\n",
    "y_predict_LNR = lrs.predict(X_test)\n",
    "count_error_LNR = 0\n",
    "for i in range(len(y_predict_LNR)):\n",
    "    if int(y_predict_LNR[i]) != y_test[i]:\n",
    "        count_error_LNR+=1\n",
    "print('error = %d/%d  (%.2f) ' %(count_error_LNR,len(y_predict_LNR),(count_error_LNR*100/len(y_predict_LNR))) + '%')"
   ]
  },
  {
   "cell_type": "code",
   "execution_count": 249,
   "metadata": {},
   "outputs": [
    {
     "name": "stdout",
     "output_type": "stream",
     "text": [
      "DecisionTreeClassifier()\n",
      "error = 801/1045  (76.65) %\n"
     ]
    }
   ],
   "source": [
    "# DecisionTreeClassifier\n",
    "from sklearn import tree\n",
    "dt = tree.DecisionTreeClassifier()\n",
    "print(dt)\n",
    "dt.fit(X_train,y_train)\n",
    "y_predict_DT = dt.predict(X_test)\n",
    "count_error_DT = 0\n",
    "for i in range(len(y_predict_DT)):\n",
    "    if int(y_predict_DT[i]) != y_test[i]:\n",
    "        count_error_DT+=1\n",
    "print('error = %d/%d  (%.2f) ' %(count_error_DT,len(y_predict_DT),(count_error_DT*100/len(y_predict_DT))) + '%')"
   ]
  },
  {
   "cell_type": "code",
   "execution_count": 250,
   "metadata": {},
   "outputs": [
    {
     "name": "stdout",
     "output_type": "stream",
     "text": [
      "RandomForestClassifier()\n",
      "error = 775/1045  (74.16) %\n"
     ]
    }
   ],
   "source": [
    "# RandomForestClassifier\n",
    "from sklearn.ensemble import RandomForestClassifier\n",
    "rf = RandomForestClassifier()\n",
    "print(rf)\n",
    "rf.fit(X_train,y_train)\n",
    "y_predict_RF = rf.predict(X_test)\n",
    "count_error_RF = 0\n",
    "for i in range(len(y_predict_RF)):\n",
    "    if int(y_predict_RF[i]) != y_test[i]:\n",
    "        count_error_RF+=1\n",
    "print('error = %d/%d  (%.2f) ' %(count_error_RF,len(y_predict_RF),(count_error_RF*100/len(y_predict_RF))) + '%')"
   ]
  },
  {
   "cell_type": "code",
   "execution_count": 251,
   "metadata": {},
   "outputs": [
    {
     "data": {
      "image/png": "[encoded data removed]",
      "text/plain": [
       "<Figure size 640x480 with 1 Axes>"
      ]
     },
     "metadata": {},
     "output_type": "display_data"
    }
   ],
   "source": [
    "# graph\n",
    "x_axis = ['KNN','GNB','MNB','CNB','BNB','CATNB','LNR','DT','RF']\n",
    "y_axis = [count_error_KNN,count_error_GNB,count_error_MNB,count_error_CNB,count_error_BNB,count_error_CATNB,count_error_LNR,count_error_DT,count_error_RF]\n",
    "fig, ax = plt.subplots()\n",
    "for i in range(len(x_axis)):\n",
    "    plt.bar(x_axis[i],y_axis[i])\n",
    "    plt.text(x_axis[i],y_axis[i],str(y_axis[i]),horizontalalignment='center')\n",
    "plt.legend(['KNeighborsClassifier','GaussianNB','MultinomialNB','ComplementNB','BernoulliNB','CategoricalNB','LinearRegression','DecisionTreeClassifier','RandomForestClassifier'],bbox_to_anchor =(1.5, 1.15))\n",
    "plt.title('Number error / %d' % len(y_test))\n",
    "plt.xlabel('Algorithm predict')\n",
    "plt.ylabel('Error')\n",
    "plt.show()"
   ]
  }
 ],
 "metadata": {
  "kernelspec": {
   "display_name": "Python 3",
   "language": "python",
   "name": "python3"
  },
  "language_info": {
   "codemirror_mode": {
    "name": "ipython",
    "version": 3
   },
   "file_extension": ".py",
   "mimetype": "text/x-python",
   "name": "python",
   "nbconvert_exporter": "python",
   "pygments_lexer": "ipython3",
   "version": "3.11.2"
  },
  "orig_nbformat": 4
 },
 "nbformat": 4,
 "nbformat_minor": 2
}
